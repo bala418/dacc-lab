{
 "cells": [
  {
   "cell_type": "code",
   "execution_count": 1,
   "id": "ddee2805",
   "metadata": {
    "execution": {
     "iopub.execute_input": "2023-03-23T03:07:01.715906Z",
     "iopub.status.busy": "2023-03-23T03:07:01.714933Z",
     "iopub.status.idle": "2023-03-23T03:07:01.724903Z",
     "shell.execute_reply": "2023-03-23T03:07:01.724255Z"
    },
    "papermill": {
     "duration": 0.022872,
     "end_time": "2023-03-23T03:07:01.726891",
     "exception": false,
     "start_time": "2023-03-23T03:07:01.704019",
     "status": "completed"
    },
    "tags": []
   },
   "outputs": [],
   "source": [
    "import pandas as pd\n",
    "import numpy as np"
   ]
  },
  {
   "cell_type": "code",
   "execution_count": 2,
   "id": "18838da2",
   "metadata": {
    "execution": {
     "iopub.execute_input": "2023-03-23T03:07:01.742335Z",
     "iopub.status.busy": "2023-03-23T03:07:01.741907Z",
     "iopub.status.idle": "2023-03-23T03:07:01.772657Z",
     "shell.execute_reply": "2023-03-23T03:07:01.771983Z"
    },
    "papermill": {
     "duration": 0.041612,
     "end_time": "2023-03-23T03:07:01.775743",
     "exception": false,
     "start_time": "2023-03-23T03:07:01.734131",
     "status": "completed"
    },
    "tags": []
   },
   "outputs": [],
   "source": [
    "path = 'forestfires.csv'\n",
    "forestfires = pd.read_csv(path)"
   ]
  },
  {
   "cell_type": "code",
   "execution_count": 3,
   "id": "7cd3da49",
   "metadata": {
    "execution": {
     "iopub.execute_input": "2023-03-23T03:07:01.793991Z",
     "iopub.status.busy": "2023-03-23T03:07:01.793614Z",
     "iopub.status.idle": "2023-03-23T03:07:01.819525Z",
     "shell.execute_reply": "2023-03-23T03:07:01.818663Z"
    },
    "papermill": {
     "duration": 0.036996,
     "end_time": "2023-03-23T03:07:01.821844",
     "exception": false,
     "start_time": "2023-03-23T03:07:01.784848",
     "status": "completed"
    },
    "tags": []
   },
   "outputs": [
    {
     "data": {
      "text/html": [
       "<div>\n",
       "<style scoped>\n",
       "    .dataframe tbody tr th:only-of-type {\n",
       "        vertical-align: middle;\n",
       "    }\n",
       "\n",
       "    .dataframe tbody tr th {\n",
       "        vertical-align: top;\n",
       "    }\n",
       "\n",
       "    .dataframe thead th {\n",
       "        text-align: right;\n",
       "    }\n",
       "</style>\n",
       "<table border=\"1\" class=\"dataframe\">\n",
       "  <thead>\n",
       "    <tr style=\"text-align: right;\">\n",
       "      <th></th>\n",
       "      <th>X</th>\n",
       "      <th>Y</th>\n",
       "      <th>month</th>\n",
       "      <th>day</th>\n",
       "      <th>FFMC</th>\n",
       "      <th>DMC</th>\n",
       "      <th>DC</th>\n",
       "      <th>ISI</th>\n",
       "      <th>temp</th>\n",
       "      <th>RH</th>\n",
       "      <th>wind</th>\n",
       "      <th>rain</th>\n",
       "      <th>area</th>\n",
       "    </tr>\n",
       "  </thead>\n",
       "  <tbody>\n",
       "    <tr>\n",
       "      <th>0</th>\n",
       "      <td>7</td>\n",
       "      <td>5</td>\n",
       "      <td>mar</td>\n",
       "      <td>fri</td>\n",
       "      <td>86.2</td>\n",
       "      <td>26.2</td>\n",
       "      <td>94.3</td>\n",
       "      <td>5.1</td>\n",
       "      <td>8.2</td>\n",
       "      <td>51</td>\n",
       "      <td>6.7</td>\n",
       "      <td>0.0</td>\n",
       "      <td>0.0</td>\n",
       "    </tr>\n",
       "    <tr>\n",
       "      <th>1</th>\n",
       "      <td>7</td>\n",
       "      <td>4</td>\n",
       "      <td>oct</td>\n",
       "      <td>tue</td>\n",
       "      <td>90.6</td>\n",
       "      <td>35.4</td>\n",
       "      <td>669.1</td>\n",
       "      <td>6.7</td>\n",
       "      <td>18.0</td>\n",
       "      <td>33</td>\n",
       "      <td>0.9</td>\n",
       "      <td>0.0</td>\n",
       "      <td>0.0</td>\n",
       "    </tr>\n",
       "    <tr>\n",
       "      <th>2</th>\n",
       "      <td>7</td>\n",
       "      <td>4</td>\n",
       "      <td>oct</td>\n",
       "      <td>sat</td>\n",
       "      <td>90.6</td>\n",
       "      <td>43.7</td>\n",
       "      <td>686.9</td>\n",
       "      <td>6.7</td>\n",
       "      <td>14.6</td>\n",
       "      <td>33</td>\n",
       "      <td>1.3</td>\n",
       "      <td>0.0</td>\n",
       "      <td>0.0</td>\n",
       "    </tr>\n",
       "    <tr>\n",
       "      <th>3</th>\n",
       "      <td>8</td>\n",
       "      <td>6</td>\n",
       "      <td>mar</td>\n",
       "      <td>fri</td>\n",
       "      <td>91.7</td>\n",
       "      <td>33.3</td>\n",
       "      <td>77.5</td>\n",
       "      <td>9.0</td>\n",
       "      <td>8.3</td>\n",
       "      <td>97</td>\n",
       "      <td>4.0</td>\n",
       "      <td>0.2</td>\n",
       "      <td>0.0</td>\n",
       "    </tr>\n",
       "    <tr>\n",
       "      <th>4</th>\n",
       "      <td>8</td>\n",
       "      <td>6</td>\n",
       "      <td>mar</td>\n",
       "      <td>sun</td>\n",
       "      <td>89.3</td>\n",
       "      <td>51.3</td>\n",
       "      <td>102.2</td>\n",
       "      <td>9.6</td>\n",
       "      <td>11.4</td>\n",
       "      <td>99</td>\n",
       "      <td>1.8</td>\n",
       "      <td>0.0</td>\n",
       "      <td>0.0</td>\n",
       "    </tr>\n",
       "  </tbody>\n",
       "</table>\n",
       "</div>"
      ],
      "text/plain": [
       "   X  Y month  day  FFMC   DMC     DC  ISI  temp  RH  wind  rain  area\n",
       "0  7  5   mar  fri  86.2  26.2   94.3  5.1   8.2  51   6.7   0.0   0.0\n",
       "1  7  4   oct  tue  90.6  35.4  669.1  6.7  18.0  33   0.9   0.0   0.0\n",
       "2  7  4   oct  sat  90.6  43.7  686.9  6.7  14.6  33   1.3   0.0   0.0\n",
       "3  8  6   mar  fri  91.7  33.3   77.5  9.0   8.3  97   4.0   0.2   0.0\n",
       "4  8  6   mar  sun  89.3  51.3  102.2  9.6  11.4  99   1.8   0.0   0.0"
      ]
     },
     "execution_count": 3,
     "metadata": {},
     "output_type": "execute_result"
    }
   ],
   "source": [
    "forestfires.head()"
   ]
  },
  {
   "cell_type": "code",
   "execution_count": 4,
   "id": "18ba6151",
   "metadata": {
    "execution": {
     "iopub.execute_input": "2023-03-23T03:07:01.838290Z",
     "iopub.status.busy": "2023-03-23T03:07:01.837788Z",
     "iopub.status.idle": "2023-03-23T03:07:01.856816Z",
     "shell.execute_reply": "2023-03-23T03:07:01.855384Z"
    },
    "papermill": {
     "duration": 0.029612,
     "end_time": "2023-03-23T03:07:01.859128",
     "exception": false,
     "start_time": "2023-03-23T03:07:01.829516",
     "status": "completed"
    },
    "tags": []
   },
   "outputs": [
    {
     "name": "stdout",
     "output_type": "stream",
     "text": [
      "<class 'pandas.core.frame.DataFrame'>\n",
      "RangeIndex: 517 entries, 0 to 516\n",
      "Data columns (total 13 columns):\n",
      " #   Column  Non-Null Count  Dtype  \n",
      "---  ------  --------------  -----  \n",
      " 0   X       517 non-null    int64  \n",
      " 1   Y       517 non-null    int64  \n",
      " 2   month   517 non-null    object \n",
      " 3   day     517 non-null    object \n",
      " 4   FFMC    517 non-null    float64\n",
      " 5   DMC     517 non-null    float64\n",
      " 6   DC      517 non-null    float64\n",
      " 7   ISI     517 non-null    float64\n",
      " 8   temp    517 non-null    float64\n",
      " 9   RH      517 non-null    int64  \n",
      " 10  wind    517 non-null    float64\n",
      " 11  rain    517 non-null    float64\n",
      " 12  area    517 non-null    float64\n",
      "dtypes: float64(8), int64(3), object(2)\n",
      "memory usage: 52.6+ KB\n"
     ]
    }
   ],
   "source": [
    "forestfires.info()"
   ]
  },
  {
   "cell_type": "code",
   "execution_count": 5,
   "id": "d401c2fa",
   "metadata": {
    "execution": {
     "iopub.execute_input": "2023-03-23T03:07:01.875470Z",
     "iopub.status.busy": "2023-03-23T03:07:01.875188Z",
     "iopub.status.idle": "2023-03-23T03:07:01.882338Z",
     "shell.execute_reply": "2023-03-23T03:07:01.881638Z"
    },
    "papermill": {
     "duration": 0.01696,
     "end_time": "2023-03-23T03:07:01.883948",
     "exception": false,
     "start_time": "2023-03-23T03:07:01.866988",
     "status": "completed"
    },
    "scrolled": true,
    "tags": []
   },
   "outputs": [
    {
     "data": {
      "text/plain": [
       "aug    184\n",
       "sep    172\n",
       "mar     54\n",
       "jul     32\n",
       "feb     20\n",
       "jun     17\n",
       "oct     15\n",
       "apr      9\n",
       "dec      9\n",
       "jan      2\n",
       "may      2\n",
       "nov      1\n",
       "Name: month, dtype: int64"
      ]
     },
     "execution_count": 5,
     "metadata": {},
     "output_type": "execute_result"
    }
   ],
   "source": [
    "forestfires['month'].value_counts()"
   ]
  },
  {
   "cell_type": "code",
   "execution_count": 6,
   "id": "29efbd30",
   "metadata": {
    "execution": {
     "iopub.execute_input": "2023-03-23T03:07:01.900074Z",
     "iopub.status.busy": "2023-03-23T03:07:01.899653Z",
     "iopub.status.idle": "2023-03-23T03:07:01.907467Z",
     "shell.execute_reply": "2023-03-23T03:07:01.906336Z"
    },
    "papermill": {
     "duration": 0.018372,
     "end_time": "2023-03-23T03:07:01.909598",
     "exception": false,
     "start_time": "2023-03-23T03:07:01.891226",
     "status": "completed"
    },
    "tags": []
   },
   "outputs": [
    {
     "data": {
      "text/plain": [
       "sun    95\n",
       "fri    85\n",
       "sat    84\n",
       "mon    74\n",
       "tue    64\n",
       "thu    61\n",
       "wed    54\n",
       "Name: day, dtype: int64"
      ]
     },
     "execution_count": 6,
     "metadata": {},
     "output_type": "execute_result"
    }
   ],
   "source": [
    "forestfires['day'].value_counts()"
   ]
  },
  {
   "cell_type": "code",
   "execution_count": 7,
   "id": "04f29354",
   "metadata": {
    "execution": {
     "iopub.execute_input": "2023-03-23T03:07:01.927009Z",
     "iopub.status.busy": "2023-03-23T03:07:01.926564Z",
     "iopub.status.idle": "2023-03-23T03:07:01.963198Z",
     "shell.execute_reply": "2023-03-23T03:07:01.961809Z"
    },
    "papermill": {
     "duration": 0.047303,
     "end_time": "2023-03-23T03:07:01.965266",
     "exception": false,
     "start_time": "2023-03-23T03:07:01.917963",
     "status": "completed"
    },
    "tags": []
   },
   "outputs": [
    {
     "data": {
      "text/html": [
       "<div>\n",
       "<style scoped>\n",
       "    .dataframe tbody tr th:only-of-type {\n",
       "        vertical-align: middle;\n",
       "    }\n",
       "\n",
       "    .dataframe tbody tr th {\n",
       "        vertical-align: top;\n",
       "    }\n",
       "\n",
       "    .dataframe thead th {\n",
       "        text-align: right;\n",
       "    }\n",
       "</style>\n",
       "<table border=\"1\" class=\"dataframe\">\n",
       "  <thead>\n",
       "    <tr style=\"text-align: right;\">\n",
       "      <th></th>\n",
       "      <th>X</th>\n",
       "      <th>Y</th>\n",
       "      <th>FFMC</th>\n",
       "      <th>DMC</th>\n",
       "      <th>DC</th>\n",
       "      <th>ISI</th>\n",
       "      <th>temp</th>\n",
       "      <th>RH</th>\n",
       "      <th>wind</th>\n",
       "      <th>rain</th>\n",
       "      <th>area</th>\n",
       "    </tr>\n",
       "  </thead>\n",
       "  <tbody>\n",
       "    <tr>\n",
       "      <th>count</th>\n",
       "      <td>517.000000</td>\n",
       "      <td>517.000000</td>\n",
       "      <td>517.000000</td>\n",
       "      <td>517.000000</td>\n",
       "      <td>517.000000</td>\n",
       "      <td>517.000000</td>\n",
       "      <td>517.000000</td>\n",
       "      <td>517.000000</td>\n",
       "      <td>517.000000</td>\n",
       "      <td>517.000000</td>\n",
       "      <td>517.000000</td>\n",
       "    </tr>\n",
       "    <tr>\n",
       "      <th>mean</th>\n",
       "      <td>4.669246</td>\n",
       "      <td>4.299807</td>\n",
       "      <td>90.644681</td>\n",
       "      <td>110.872340</td>\n",
       "      <td>547.940039</td>\n",
       "      <td>9.021663</td>\n",
       "      <td>18.889168</td>\n",
       "      <td>44.288201</td>\n",
       "      <td>4.017602</td>\n",
       "      <td>0.021663</td>\n",
       "      <td>12.847292</td>\n",
       "    </tr>\n",
       "    <tr>\n",
       "      <th>std</th>\n",
       "      <td>2.313778</td>\n",
       "      <td>1.229900</td>\n",
       "      <td>5.520111</td>\n",
       "      <td>64.046482</td>\n",
       "      <td>248.066192</td>\n",
       "      <td>4.559477</td>\n",
       "      <td>5.806625</td>\n",
       "      <td>16.317469</td>\n",
       "      <td>1.791653</td>\n",
       "      <td>0.295959</td>\n",
       "      <td>63.655818</td>\n",
       "    </tr>\n",
       "    <tr>\n",
       "      <th>min</th>\n",
       "      <td>1.000000</td>\n",
       "      <td>2.000000</td>\n",
       "      <td>18.700000</td>\n",
       "      <td>1.100000</td>\n",
       "      <td>7.900000</td>\n",
       "      <td>0.000000</td>\n",
       "      <td>2.200000</td>\n",
       "      <td>15.000000</td>\n",
       "      <td>0.400000</td>\n",
       "      <td>0.000000</td>\n",
       "      <td>0.000000</td>\n",
       "    </tr>\n",
       "    <tr>\n",
       "      <th>25%</th>\n",
       "      <td>3.000000</td>\n",
       "      <td>4.000000</td>\n",
       "      <td>90.200000</td>\n",
       "      <td>68.600000</td>\n",
       "      <td>437.700000</td>\n",
       "      <td>6.500000</td>\n",
       "      <td>15.500000</td>\n",
       "      <td>33.000000</td>\n",
       "      <td>2.700000</td>\n",
       "      <td>0.000000</td>\n",
       "      <td>0.000000</td>\n",
       "    </tr>\n",
       "    <tr>\n",
       "      <th>50%</th>\n",
       "      <td>4.000000</td>\n",
       "      <td>4.000000</td>\n",
       "      <td>91.600000</td>\n",
       "      <td>108.300000</td>\n",
       "      <td>664.200000</td>\n",
       "      <td>8.400000</td>\n",
       "      <td>19.300000</td>\n",
       "      <td>42.000000</td>\n",
       "      <td>4.000000</td>\n",
       "      <td>0.000000</td>\n",
       "      <td>0.520000</td>\n",
       "    </tr>\n",
       "    <tr>\n",
       "      <th>75%</th>\n",
       "      <td>7.000000</td>\n",
       "      <td>5.000000</td>\n",
       "      <td>92.900000</td>\n",
       "      <td>142.400000</td>\n",
       "      <td>713.900000</td>\n",
       "      <td>10.800000</td>\n",
       "      <td>22.800000</td>\n",
       "      <td>53.000000</td>\n",
       "      <td>4.900000</td>\n",
       "      <td>0.000000</td>\n",
       "      <td>6.570000</td>\n",
       "    </tr>\n",
       "    <tr>\n",
       "      <th>max</th>\n",
       "      <td>9.000000</td>\n",
       "      <td>9.000000</td>\n",
       "      <td>96.200000</td>\n",
       "      <td>291.300000</td>\n",
       "      <td>860.600000</td>\n",
       "      <td>56.100000</td>\n",
       "      <td>33.300000</td>\n",
       "      <td>100.000000</td>\n",
       "      <td>9.400000</td>\n",
       "      <td>6.400000</td>\n",
       "      <td>1090.840000</td>\n",
       "    </tr>\n",
       "  </tbody>\n",
       "</table>\n",
       "</div>"
      ],
      "text/plain": [
       "                X           Y        FFMC         DMC          DC         ISI  \\\n",
       "count  517.000000  517.000000  517.000000  517.000000  517.000000  517.000000   \n",
       "mean     4.669246    4.299807   90.644681  110.872340  547.940039    9.021663   \n",
       "std      2.313778    1.229900    5.520111   64.046482  248.066192    4.559477   \n",
       "min      1.000000    2.000000   18.700000    1.100000    7.900000    0.000000   \n",
       "25%      3.000000    4.000000   90.200000   68.600000  437.700000    6.500000   \n",
       "50%      4.000000    4.000000   91.600000  108.300000  664.200000    8.400000   \n",
       "75%      7.000000    5.000000   92.900000  142.400000  713.900000   10.800000   \n",
       "max      9.000000    9.000000   96.200000  291.300000  860.600000   56.100000   \n",
       "\n",
       "             temp          RH        wind        rain         area  \n",
       "count  517.000000  517.000000  517.000000  517.000000   517.000000  \n",
       "mean    18.889168   44.288201    4.017602    0.021663    12.847292  \n",
       "std      5.806625   16.317469    1.791653    0.295959    63.655818  \n",
       "min      2.200000   15.000000    0.400000    0.000000     0.000000  \n",
       "25%     15.500000   33.000000    2.700000    0.000000     0.000000  \n",
       "50%     19.300000   42.000000    4.000000    0.000000     0.520000  \n",
       "75%     22.800000   53.000000    4.900000    0.000000     6.570000  \n",
       "max     33.300000  100.000000    9.400000    6.400000  1090.840000  "
      ]
     },
     "execution_count": 7,
     "metadata": {},
     "output_type": "execute_result"
    }
   ],
   "source": [
    "forestfires.describe()"
   ]
  },
  {
   "cell_type": "code",
   "execution_count": 8,
   "id": "05b860fc",
   "metadata": {
    "execution": {
     "iopub.execute_input": "2023-03-23T03:07:01.999875Z",
     "iopub.status.busy": "2023-03-23T03:07:01.999463Z",
     "iopub.status.idle": "2023-03-23T03:07:03.731264Z",
     "shell.execute_reply": "2023-03-23T03:07:03.729689Z"
    },
    "papermill": {
     "duration": 1.743742,
     "end_time": "2023-03-23T03:07:03.733535",
     "exception": false,
     "start_time": "2023-03-23T03:07:01.989793",
     "status": "completed"
    },
    "scrolled": true,
    "tags": []
   },
   "outputs": [
    {
     "data": {
      "image/png": "[encoded data removed]",
      "text/plain": [
       "<Figure size 1200x800 with 12 Axes>"
      ]
     },
     "metadata": {},
     "output_type": "display_data"
    }
   ],
   "source": [
    "import matplotlib.pyplot as plt\n",
    "\n",
    "forestfires.hist(bins=50, figsize=(12, 8))\n",
    "plt.show()"
   ]
  },
  {
   "cell_type": "code",
   "execution_count": 10,
   "id": "a177c023",
   "metadata": {
    "execution": {
     "iopub.execute_input": "2023-03-23T03:07:03.756159Z",
     "iopub.status.busy": "2023-03-23T03:07:03.755700Z",
     "iopub.status.idle": "2023-03-23T03:07:03.963424Z",
     "shell.execute_reply": "2023-03-23T03:07:03.962166Z"
    },
    "papermill": {
     "duration": 0.221045,
     "end_time": "2023-03-23T03:07:03.965487",
     "exception": false,
     "start_time": "2023-03-23T03:07:03.744442",
     "status": "completed"
    },
    "scrolled": true,
    "tags": []
   },
   "outputs": [
    {
     "data": {
      "image/png": "[encoded data removed]",
      "text/plain": [
       "<Figure size 640x480 with 1 Axes>"
      ]
     },
     "metadata": {},
     "output_type": "display_data"
    }
   ],
   "source": [
    "forestfires['area'].hist(bins=50)\n",
    "plt.xlabel('area')\n",
    "plt.ylabel('count')\n",
    "plt.show()"
   ]
  },
  {
   "cell_type": "markdown",
   "id": "13a96909",
   "metadata": {
    "papermill": {
     "duration": 0.00818,
     "end_time": "2023-03-23T03:07:03.982474",
     "exception": false,
     "start_time": "2023-03-23T03:07:03.974294",
     "status": "completed"
    },
    "tags": []
   },
   "source": [
    "The data is heavily skewed towards 0.0"
   ]
  },
  {
   "cell_type": "code",
   "execution_count": 11,
   "id": "f9a7f392",
   "metadata": {},
   "outputs": [
    {
     "data": {
      "text/plain": [
       "<AxesSubplot: ylabel='area'>"
      ]
     },
     "execution_count": 11,
     "metadata": {},
     "output_type": "execute_result"
    },
    {
     "data": {
      "image/png": "[encoded data removed]",
      "text/plain": [
       "<Figure size 640x480 with 1 Axes>"
      ]
     },
     "metadata": {},
     "output_type": "display_data"
    }
   ],
   "source": [
    "# testing skewness of data\n",
    "import seaborn as sns\n",
    "sns.violinplot(data=forestfires, y = 'area')\n"
   ]
  },
  {
   "cell_type": "code",
   "execution_count": 12,
   "id": "b68e41c3",
   "metadata": {},
   "outputs": [
    {
     "data": {
      "text/plain": [
       "X        False\n",
       "Y        False\n",
       "month    False\n",
       "day      False\n",
       "FFMC     False\n",
       "DMC      False\n",
       "DC       False\n",
       "ISI      False\n",
       "temp     False\n",
       "RH       False\n",
       "wind     False\n",
       "rain     False\n",
       "area     False\n",
       "dtype: bool"
      ]
     },
     "execution_count": 12,
     "metadata": {},
     "output_type": "execute_result"
    }
   ],
   "source": [
    "# checking for null values\n",
    "forestfires.isnull().any()"
   ]
  },
  {
   "cell_type": "code",
   "execution_count": 13,
   "id": "17aa1c11",
   "metadata": {},
   "outputs": [
    {
     "data": {
      "text/plain": [
       "0       0.00\n",
       "1       0.00\n",
       "2       0.00\n",
       "3       0.00\n",
       "4       0.00\n",
       "       ...  \n",
       "512     6.44\n",
       "513    54.29\n",
       "514    11.16\n",
       "515     0.00\n",
       "516     0.00\n",
       "Name: area, Length: 517, dtype: float64"
      ]
     },
     "execution_count": 13,
     "metadata": {},
     "output_type": "execute_result"
    }
   ],
   "source": [
    "# there are no null values but we still fill it with mean values for namesake\n",
    "forestfires.area.fillna(forestfires.area.mean())"
   ]
  },
  {
   "cell_type": "code",
   "execution_count": 14,
   "id": "a272d391",
   "metadata": {
    "execution": {
     "iopub.execute_input": "2023-03-23T03:07:04.017933Z",
     "iopub.status.busy": "2023-03-23T03:07:04.017563Z",
     "iopub.status.idle": "2023-03-23T03:07:04.136773Z",
     "shell.execute_reply": "2023-03-23T03:07:04.136062Z"
    },
    "papermill": {
     "duration": 0.131214,
     "end_time": "2023-03-23T03:07:04.138642",
     "exception": false,
     "start_time": "2023-03-23T03:07:04.007428",
     "status": "completed"
    },
    "tags": []
   },
   "outputs": [
    {
     "data": {
      "image/png": "[encoded data removed]",
      "text/plain": [
       "<Figure size 640x480 with 1 Axes>"
      ]
     },
     "metadata": {},
     "output_type": "display_data"
    }
   ],
   "source": [
    "forestfires['area_categories'] = pd.cut(forestfires['area'], bins=[-1.0, 0.52, 6.57, 1090.84])\n",
    "\n",
    "forestfires['area_categories'].value_counts().sort_index().plot.bar(rot=0, grid=True)\n",
    "plt.ylabel('Count')\n",
    "plt.xlabel('area burned (ha)')\n",
    "plt.show()"
   ]
  },
  {
   "cell_type": "code",
   "execution_count": 15,
   "id": "e8bba165",
   "metadata": {
    "execution": {
     "iopub.execute_input": "2023-03-23T03:07:04.164331Z",
     "iopub.status.busy": "2023-03-23T03:07:04.163729Z",
     "iopub.status.idle": "2023-03-23T03:07:05.007950Z",
     "shell.execute_reply": "2023-03-23T03:07:05.007199Z"
    },
    "papermill": {
     "duration": 0.859664,
     "end_time": "2023-03-23T03:07:05.010404",
     "exception": false,
     "start_time": "2023-03-23T03:07:04.150740",
     "status": "completed"
    },
    "tags": []
   },
   "outputs": [],
   "source": [
    "from sklearn.model_selection import train_test_split\n",
    "\n",
    "strat_train_set, strat_test_set = train_test_split(forestfires, test_size=0.2, stratify=forestfires['area_categories'], random_state=42)"
   ]
  },
  {
   "cell_type": "code",
   "execution_count": 16,
   "id": "4e7f0243",
   "metadata": {
    "execution": {
     "iopub.execute_input": "2023-03-23T03:07:05.030363Z",
     "iopub.status.busy": "2023-03-23T03:07:05.029904Z",
     "iopub.status.idle": "2023-03-23T03:07:05.039416Z",
     "shell.execute_reply": "2023-03-23T03:07:05.038653Z"
    },
    "papermill": {
     "duration": 0.021303,
     "end_time": "2023-03-23T03:07:05.041212",
     "exception": false,
     "start_time": "2023-03-23T03:07:05.019909",
     "status": "completed"
    },
    "tags": []
   },
   "outputs": [
    {
     "data": {
      "text/plain": [
       "(-1.0, 0.52]       0.500967\n",
       "(0.52, 6.57]       0.249516\n",
       "(6.57, 1090.84]    0.249516\n",
       "Name: area_categories, dtype: float64"
      ]
     },
     "execution_count": 16,
     "metadata": {},
     "output_type": "execute_result"
    }
   ],
   "source": [
    "forestfires['area_categories'].value_counts() / len(forestfires)"
   ]
  },
  {
   "cell_type": "code",
   "execution_count": 17,
   "id": "35fd59aa",
   "metadata": {
    "execution": {
     "iopub.execute_input": "2023-03-23T03:07:05.062972Z",
     "iopub.status.busy": "2023-03-23T03:07:05.062339Z",
     "iopub.status.idle": "2023-03-23T03:07:05.078033Z",
     "shell.execute_reply": "2023-03-23T03:07:05.077184Z"
    },
    "papermill": {
     "duration": 0.029084,
     "end_time": "2023-03-23T03:07:05.080012",
     "exception": false,
     "start_time": "2023-03-23T03:07:05.050928",
     "status": "completed"
    },
    "tags": []
   },
   "outputs": [
    {
     "data": {
      "text/plain": [
       "(-1.0, 0.52]       0.50\n",
       "(0.52, 6.57]       0.25\n",
       "(6.57, 1090.84]    0.25\n",
       "Name: area_categories, dtype: float64"
      ]
     },
     "execution_count": 17,
     "metadata": {},
     "output_type": "execute_result"
    }
   ],
   "source": [
    "strat_test_set['area_categories'].value_counts() / len(strat_test_set)"
   ]
  },
  {
   "cell_type": "code",
   "execution_count": 18,
   "id": "0c893e5e",
   "metadata": {
    "execution": {
     "iopub.execute_input": "2023-03-23T03:07:05.130738Z",
     "iopub.status.busy": "2023-03-23T03:07:05.129554Z",
     "iopub.status.idle": "2023-03-23T03:07:05.134228Z",
     "shell.execute_reply": "2023-03-23T03:07:05.133381Z"
    },
    "papermill": {
     "duration": 0.019617,
     "end_time": "2023-03-23T03:07:05.135936",
     "exception": false,
     "start_time": "2023-03-23T03:07:05.116319",
     "status": "completed"
    },
    "tags": []
   },
   "outputs": [],
   "source": [
    "forestfires = strat_train_set.copy()"
   ]
  },
  {
   "cell_type": "code",
   "execution_count": 19,
   "id": "5a25a901",
   "metadata": {
    "execution": {
     "iopub.execute_input": "2023-03-23T03:07:05.154792Z",
     "iopub.status.busy": "2023-03-23T03:07:05.154507Z",
     "iopub.status.idle": "2023-03-23T03:07:05.159986Z",
     "shell.execute_reply": "2023-03-23T03:07:05.159138Z"
    },
    "papermill": {
     "duration": 0.016759,
     "end_time": "2023-03-23T03:07:05.161622",
     "exception": false,
     "start_time": "2023-03-23T03:07:05.144863",
     "status": "completed"
    },
    "tags": []
   },
   "outputs": [],
   "source": [
    "forestfires['log_area'] = np.log(forestfires['area'] + 1)"
   ]
  },
  {
   "cell_type": "code",
   "execution_count": 20,
   "id": "b3a2c3ae",
   "metadata": {
    "execution": {
     "iopub.execute_input": "2023-03-23T03:07:05.180356Z",
     "iopub.status.busy": "2023-03-23T03:07:05.180082Z",
     "iopub.status.idle": "2023-03-23T03:07:05.185465Z",
     "shell.execute_reply": "2023-03-23T03:07:05.184576Z"
    },
    "papermill": {
     "duration": 0.016715,
     "end_time": "2023-03-23T03:07:05.187196",
     "exception": false,
     "start_time": "2023-03-23T03:07:05.170481",
     "status": "completed"
    },
    "tags": []
   },
   "outputs": [],
   "source": [
    "forestfires['burned'] = forestfires['area'].apply(lambda x: 0.0 if x == 0.0 else 1.0)"
   ]
  },
  {
   "cell_type": "code",
   "execution_count": 17,
   "id": "e944c095",
   "metadata": {
    "execution": {
     "iopub.execute_input": "2023-03-23T03:07:05.206191Z",
     "iopub.status.busy": "2023-03-23T03:07:05.205928Z",
     "iopub.status.idle": "2023-03-23T03:07:05.416715Z",
     "shell.execute_reply": "2023-03-23T03:07:05.415791Z"
    },
    "papermill": {
     "duration": 0.222605,
     "end_time": "2023-03-23T03:07:05.418620",
     "exception": false,
     "start_time": "2023-03-23T03:07:05.196015",
     "status": "completed"
    },
    "scrolled": true,
    "tags": []
   },
   "outputs": [
    {
     "data": {
      "image/png": "[encoded data removed]",
      "text/plain": [
       "<Figure size 640x480 with 2 Axes>"
      ]
     },
     "metadata": {},
     "output_type": "display_data"
    }
   ],
   "source": [
    "forestfires_burned = forestfires[forestfires['burned'] != 0.0]\n",
    "\n",
    "forestfires_burned_count = forestfires_burned.groupby(['X', 'Y']).size().reset_index()\n",
    "forestfires_burned_count.plot(kind='scatter', x='X', y='Y', grid=True, c=0, cmap='jet', colorbar=True, legend=True)\n",
    "plt.show()"
   ]
  },
  {
   "cell_type": "code",
   "execution_count": 21,
   "id": "262b9823",
   "metadata": {
    "execution": {
     "iopub.execute_input": "2023-03-23T03:07:05.456989Z",
     "iopub.status.busy": "2023-03-23T03:07:05.456636Z",
     "iopub.status.idle": "2023-03-23T03:07:05.462141Z",
     "shell.execute_reply": "2023-03-23T03:07:05.461264Z"
    },
    "papermill": {
     "duration": 0.017672,
     "end_time": "2023-03-23T03:07:05.464059",
     "exception": false,
     "start_time": "2023-03-23T03:07:05.446387",
     "status": "completed"
    },
    "tags": []
   },
   "outputs": [],
   "source": [
    "forestfires = forestfires.drop('burned', axis=1)"
   ]
  },
  {
   "cell_type": "code",
   "execution_count": 22,
   "id": "d3bfeaaa",
   "metadata": {
    "execution": {
     "iopub.execute_input": "2023-03-23T03:07:05.483309Z",
     "iopub.status.busy": "2023-03-23T03:07:05.483055Z",
     "iopub.status.idle": "2023-03-23T03:07:05.490582Z",
     "shell.execute_reply": "2023-03-23T03:07:05.489740Z"
    },
    "papermill": {
     "duration": 0.019083,
     "end_time": "2023-03-23T03:07:05.492218",
     "exception": false,
     "start_time": "2023-03-23T03:07:05.473135",
     "status": "completed"
    },
    "tags": []
   },
   "outputs": [
    {
     "name": "stderr",
     "output_type": "stream",
     "text": [
      "C:\\Users\\bala9\\AppData\\Local\\Temp\\ipykernel_13992\\4260764021.py:1: FutureWarning: The default value of numeric_only in DataFrame.corr is deprecated. In a future version, it will default to False. Select only valid columns or specify the value of numeric_only to silence this warning.\n",
      "  correlation = forestfires.corr()\n"
     ]
    },
    {
     "data": {
      "text/plain": [
       "area        1.000000\n",
       "log_area    0.521910\n",
       "temp        0.108162\n",
       "DMC         0.088377\n",
       "DC          0.062433\n",
       "X           0.055048\n",
       "FFMC        0.049271\n",
       "Y           0.046656\n",
       "ISI         0.016000\n",
       "wind        0.007647\n",
       "rain       -0.006816\n",
       "RH         -0.097088\n",
       "Name: area, dtype: float64"
      ]
     },
     "execution_count": 22,
     "metadata": {},
     "output_type": "execute_result"
    }
   ],
   "source": [
    "correlation = forestfires.corr()\n",
    "correlation['area'].sort_values(ascending=False)"
   ]
  },
  {
   "cell_type": "code",
   "execution_count": 22,
   "id": "20f544a6",
   "metadata": {
    "execution": {
     "iopub.execute_input": "2023-03-23T03:07:08.636857Z",
     "iopub.status.busy": "2023-03-23T03:07:08.636171Z",
     "iopub.status.idle": "2023-03-23T03:07:08.645273Z",
     "shell.execute_reply": "2023-03-23T03:07:08.644269Z"
    },
    "papermill": {
     "duration": 0.02973,
     "end_time": "2023-03-23T03:07:08.647718",
     "exception": false,
     "start_time": "2023-03-23T03:07:08.617988",
     "status": "completed"
    },
    "tags": []
   },
   "outputs": [
    {
     "data": {
      "text/plain": [
       "log_area    1.000000\n",
       "area        0.521910\n",
       "DC          0.122051\n",
       "temp        0.120139\n",
       "DMC         0.113796\n",
       "FFMC        0.086796\n",
       "wind        0.037787\n",
       "X           0.032049\n",
       "rain        0.026218\n",
       "ISI         0.024660\n",
       "Y           0.005407\n",
       "RH         -0.100301\n",
       "Name: log_area, dtype: float64"
      ]
     },
     "execution_count": 22,
     "metadata": {},
     "output_type": "execute_result"
    }
   ],
   "source": [
    "correlation = forestfires.corr()\n",
    "correlation['log_area'].sort_values(ascending=False)"
   ]
  },
  {
   "cell_type": "code",
   "execution_count": 23,
   "id": "174eb573",
   "metadata": {
    "execution": {
     "iopub.execute_input": "2023-03-23T03:07:08.683487Z",
     "iopub.status.busy": "2023-03-23T03:07:08.683147Z",
     "iopub.status.idle": "2023-03-23T03:07:08.841547Z",
     "shell.execute_reply": "2023-03-23T03:07:08.840040Z"
    },
    "papermill": {
     "duration": 0.179148,
     "end_time": "2023-03-23T03:07:08.844106",
     "exception": false,
     "start_time": "2023-03-23T03:07:08.664958",
     "status": "completed"
    },
    "tags": []
   },
   "outputs": [
    {
     "data": {
      "image/png": "[encoded data removed]",
      "text/plain": [
       "<Figure size 640x480 with 1 Axes>"
      ]
     },
     "metadata": {},
     "output_type": "display_data"
    }
   ],
   "source": [
    "days = forestfires['day'].unique()\n",
    "avg_area_days = []\n",
    "for day in days:\n",
    "    avg_area_days.append(forestfires[forestfires['day'] == day]['area'].mean())\n",
    "\n",
    "plt.bar(days, avg_area_days)\n",
    "plt.title('Days compared to the average area burned')\n",
    "plt.xlabel('Days')\n",
    "plt.ylabel('Average area burned (ha)')\n",
    "plt.show()"
   ]
  },
  {
   "cell_type": "code",
   "execution_count": 24,
   "id": "02ef14ba",
   "metadata": {
    "execution": {
     "iopub.execute_input": "2023-03-23T03:07:08.881198Z",
     "iopub.status.busy": "2023-03-23T03:07:08.880645Z",
     "iopub.status.idle": "2023-03-23T03:07:08.888000Z",
     "shell.execute_reply": "2023-03-23T03:07:08.887087Z"
    },
    "papermill": {
     "duration": 0.028489,
     "end_time": "2023-03-23T03:07:08.890116",
     "exception": false,
     "start_time": "2023-03-23T03:07:08.861627",
     "status": "completed"
    },
    "scrolled": true,
    "tags": []
   },
   "outputs": [
    {
     "data": {
      "text/plain": [
       "aug    152\n",
       "sep    141\n",
       "mar     43\n",
       "jul     23\n",
       "jun     15\n",
       "feb     12\n",
       "oct     11\n",
       "apr      8\n",
       "dec      5\n",
       "jan      2\n",
       "may      1\n",
       "Name: month, dtype: int64"
      ]
     },
     "execution_count": 24,
     "metadata": {},
     "output_type": "execute_result"
    }
   ],
   "source": [
    "forestfires['month'].value_counts()"
   ]
  },
  {
   "cell_type": "code",
   "execution_count": 25,
   "id": "12d5af78",
   "metadata": {
    "execution": {
     "iopub.execute_input": "2023-03-23T03:07:08.927223Z",
     "iopub.status.busy": "2023-03-23T03:07:08.926236Z",
     "iopub.status.idle": "2023-03-23T03:07:08.931289Z",
     "shell.execute_reply": "2023-03-23T03:07:08.930333Z"
    },
    "papermill": {
     "duration": 0.025958,
     "end_time": "2023-03-23T03:07:08.933254",
     "exception": false,
     "start_time": "2023-03-23T03:07:08.907296",
     "status": "completed"
    },
    "tags": []
   },
   "outputs": [],
   "source": [
    "months = list(forestfires['month'].unique())"
   ]
  },
  {
   "cell_type": "code",
   "execution_count": 26,
   "id": "65abc78e",
   "metadata": {
    "execution": {
     "iopub.execute_input": "2023-03-23T03:07:08.972125Z",
     "iopub.status.busy": "2023-03-23T03:07:08.970829Z",
     "iopub.status.idle": "2023-03-23T03:07:09.113241Z",
     "shell.execute_reply": "2023-03-23T03:07:09.112320Z"
    },
    "papermill": {
     "duration": 0.164176,
     "end_time": "2023-03-23T03:07:09.115308",
     "exception": false,
     "start_time": "2023-03-23T03:07:08.951132",
     "status": "completed"
    },
    "tags": []
   },
   "outputs": [
    {
     "data": {
      "image/png": "[encoded data removed]",
      "text/plain": [
       "<Figure size 640x480 with 1 Axes>"
      ]
     },
     "metadata": {},
     "output_type": "display_data"
    }
   ],
   "source": [
    "drop_months = ['may', 'jan', 'dec', 'apr']\n",
    "forestfires = forestfires[forestfires['month'].isin(drop_months) == False]\n",
    "\n",
    "months = list(forestfires['month'].unique())  \n",
    "avg_area_month = []\n",
    "for month in months:\n",
    "    avg_area_month.append(forestfires[forestfires['month'] == month]['area'].mean())\n",
    "\n",
    "plt.bar(months, avg_area_month)\n",
    "plt.title('Months compared to the average area burned')\n",
    "plt.xlabel('Months')\n",
    "plt.ylabel('Average area burned (ha)')\n",
    "plt.show()"
   ]
  },
  {
   "cell_type": "code",
   "execution_count": 27,
   "id": "b83dab01",
   "metadata": {
    "execution": {
     "iopub.execute_input": "2023-03-23T03:07:09.188987Z",
     "iopub.status.busy": "2023-03-23T03:07:09.188606Z",
     "iopub.status.idle": "2023-03-23T03:07:09.196284Z",
     "shell.execute_reply": "2023-03-23T03:07:09.195239Z"
    },
    "papermill": {
     "duration": 0.029198,
     "end_time": "2023-03-23T03:07:09.198639",
     "exception": false,
     "start_time": "2023-03-23T03:07:09.169441",
     "status": "completed"
    },
    "tags": []
   },
   "outputs": [],
   "source": [
    "forestfires = strat_train_set\n",
    "forestfires['area'] = np.log(forestfires['area'] + 1)\n",
    "strat_test_set['area'] = np.log(strat_test_set['area'] + 1)\n",
    "forestfires.drop(columns='area_categories', inplace=True)"
   ]
  },
  {
   "cell_type": "code",
   "execution_count": 28,
   "id": "79bdb611",
   "metadata": {
    "execution": {
     "iopub.execute_input": "2023-03-23T03:07:09.235288Z",
     "iopub.status.busy": "2023-03-23T03:07:09.233843Z",
     "iopub.status.idle": "2023-03-23T03:07:09.256042Z",
     "shell.execute_reply": "2023-03-23T03:07:09.254845Z"
    },
    "papermill": {
     "duration": 0.04188,
     "end_time": "2023-03-23T03:07:09.257865",
     "exception": false,
     "start_time": "2023-03-23T03:07:09.215985",
     "status": "completed"
    },
    "tags": []
   },
   "outputs": [
    {
     "data": {
      "text/html": [
       "<div>\n",
       "<style scoped>\n",
       "    .dataframe tbody tr th:only-of-type {\n",
       "        vertical-align: middle;\n",
       "    }\n",
       "\n",
       "    .dataframe tbody tr th {\n",
       "        vertical-align: top;\n",
       "    }\n",
       "\n",
       "    .dataframe thead th {\n",
       "        text-align: right;\n",
       "    }\n",
       "</style>\n",
       "<table border=\"1\" class=\"dataframe\">\n",
       "  <thead>\n",
       "    <tr style=\"text-align: right;\">\n",
       "      <th></th>\n",
       "      <th>X</th>\n",
       "      <th>Y</th>\n",
       "      <th>month</th>\n",
       "      <th>day</th>\n",
       "      <th>FFMC</th>\n",
       "      <th>DMC</th>\n",
       "      <th>DC</th>\n",
       "      <th>ISI</th>\n",
       "      <th>temp</th>\n",
       "      <th>RH</th>\n",
       "      <th>wind</th>\n",
       "      <th>rain</th>\n",
       "      <th>area</th>\n",
       "    </tr>\n",
       "  </thead>\n",
       "  <tbody>\n",
       "    <tr>\n",
       "      <th>395</th>\n",
       "      <td>4</td>\n",
       "      <td>5</td>\n",
       "      <td>feb</td>\n",
       "      <td>sun</td>\n",
       "      <td>85.0</td>\n",
       "      <td>9.0</td>\n",
       "      <td>56.9</td>\n",
       "      <td>3.5</td>\n",
       "      <td>10.1</td>\n",
       "      <td>62</td>\n",
       "      <td>1.8</td>\n",
       "      <td>0.0</td>\n",
       "      <td>3.966132</td>\n",
       "    </tr>\n",
       "    <tr>\n",
       "      <th>89</th>\n",
       "      <td>6</td>\n",
       "      <td>5</td>\n",
       "      <td>mar</td>\n",
       "      <td>sat</td>\n",
       "      <td>91.7</td>\n",
       "      <td>35.8</td>\n",
       "      <td>80.8</td>\n",
       "      <td>7.8</td>\n",
       "      <td>17.4</td>\n",
       "      <td>25</td>\n",
       "      <td>4.9</td>\n",
       "      <td>0.0</td>\n",
       "      <td>0.000000</td>\n",
       "    </tr>\n",
       "    <tr>\n",
       "      <th>19</th>\n",
       "      <td>6</td>\n",
       "      <td>4</td>\n",
       "      <td>apr</td>\n",
       "      <td>sat</td>\n",
       "      <td>86.3</td>\n",
       "      <td>27.4</td>\n",
       "      <td>97.1</td>\n",
       "      <td>5.1</td>\n",
       "      <td>9.3</td>\n",
       "      <td>44</td>\n",
       "      <td>4.5</td>\n",
       "      <td>0.0</td>\n",
       "      <td>0.000000</td>\n",
       "    </tr>\n",
       "    <tr>\n",
       "      <th>199</th>\n",
       "      <td>2</td>\n",
       "      <td>4</td>\n",
       "      <td>sep</td>\n",
       "      <td>mon</td>\n",
       "      <td>63.5</td>\n",
       "      <td>70.8</td>\n",
       "      <td>665.3</td>\n",
       "      <td>0.8</td>\n",
       "      <td>22.6</td>\n",
       "      <td>38</td>\n",
       "      <td>3.6</td>\n",
       "      <td>0.0</td>\n",
       "      <td>2.511224</td>\n",
       "    </tr>\n",
       "    <tr>\n",
       "      <th>110</th>\n",
       "      <td>4</td>\n",
       "      <td>4</td>\n",
       "      <td>mar</td>\n",
       "      <td>fri</td>\n",
       "      <td>85.9</td>\n",
       "      <td>19.5</td>\n",
       "      <td>57.3</td>\n",
       "      <td>2.8</td>\n",
       "      <td>13.7</td>\n",
       "      <td>43</td>\n",
       "      <td>5.8</td>\n",
       "      <td>0.0</td>\n",
       "      <td>0.000000</td>\n",
       "    </tr>\n",
       "    <tr>\n",
       "      <th>...</th>\n",
       "      <td>...</td>\n",
       "      <td>...</td>\n",
       "      <td>...</td>\n",
       "      <td>...</td>\n",
       "      <td>...</td>\n",
       "      <td>...</td>\n",
       "      <td>...</td>\n",
       "      <td>...</td>\n",
       "      <td>...</td>\n",
       "      <td>...</td>\n",
       "      <td>...</td>\n",
       "      <td>...</td>\n",
       "      <td>...</td>\n",
       "    </tr>\n",
       "    <tr>\n",
       "      <th>431</th>\n",
       "      <td>1</td>\n",
       "      <td>3</td>\n",
       "      <td>aug</td>\n",
       "      <td>sat</td>\n",
       "      <td>92.1</td>\n",
       "      <td>178.0</td>\n",
       "      <td>605.3</td>\n",
       "      <td>9.6</td>\n",
       "      <td>23.3</td>\n",
       "      <td>40</td>\n",
       "      <td>4.0</td>\n",
       "      <td>0.0</td>\n",
       "      <td>1.996060</td>\n",
       "    </tr>\n",
       "    <tr>\n",
       "      <th>470</th>\n",
       "      <td>5</td>\n",
       "      <td>4</td>\n",
       "      <td>apr</td>\n",
       "      <td>sun</td>\n",
       "      <td>91.0</td>\n",
       "      <td>14.6</td>\n",
       "      <td>25.6</td>\n",
       "      <td>12.3</td>\n",
       "      <td>17.6</td>\n",
       "      <td>27</td>\n",
       "      <td>5.8</td>\n",
       "      <td>0.0</td>\n",
       "      <td>0.000000</td>\n",
       "    </tr>\n",
       "    <tr>\n",
       "      <th>252</th>\n",
       "      <td>6</td>\n",
       "      <td>5</td>\n",
       "      <td>aug</td>\n",
       "      <td>wed</td>\n",
       "      <td>93.1</td>\n",
       "      <td>157.3</td>\n",
       "      <td>666.7</td>\n",
       "      <td>13.5</td>\n",
       "      <td>22.1</td>\n",
       "      <td>37</td>\n",
       "      <td>3.6</td>\n",
       "      <td>0.0</td>\n",
       "      <td>0.190620</td>\n",
       "    </tr>\n",
       "    <tr>\n",
       "      <th>225</th>\n",
       "      <td>4</td>\n",
       "      <td>4</td>\n",
       "      <td>sep</td>\n",
       "      <td>sun</td>\n",
       "      <td>93.5</td>\n",
       "      <td>149.3</td>\n",
       "      <td>728.6</td>\n",
       "      <td>8.1</td>\n",
       "      <td>22.9</td>\n",
       "      <td>39</td>\n",
       "      <td>4.9</td>\n",
       "      <td>0.0</td>\n",
       "      <td>3.902982</td>\n",
       "    </tr>\n",
       "    <tr>\n",
       "      <th>81</th>\n",
       "      <td>1</td>\n",
       "      <td>2</td>\n",
       "      <td>aug</td>\n",
       "      <td>sun</td>\n",
       "      <td>90.2</td>\n",
       "      <td>99.6</td>\n",
       "      <td>631.2</td>\n",
       "      <td>6.3</td>\n",
       "      <td>17.9</td>\n",
       "      <td>44</td>\n",
       "      <td>2.2</td>\n",
       "      <td>0.0</td>\n",
       "      <td>0.000000</td>\n",
       "    </tr>\n",
       "  </tbody>\n",
       "</table>\n",
       "<p>413 rows × 13 columns</p>\n",
       "</div>"
      ],
      "text/plain": [
       "     X  Y month  day  FFMC    DMC     DC   ISI  temp  RH  wind  rain      area\n",
       "395  4  5   feb  sun  85.0    9.0   56.9   3.5  10.1  62   1.8   0.0  3.966132\n",
       "89   6  5   mar  sat  91.7   35.8   80.8   7.8  17.4  25   4.9   0.0  0.000000\n",
       "19   6  4   apr  sat  86.3   27.4   97.1   5.1   9.3  44   4.5   0.0  0.000000\n",
       "199  2  4   sep  mon  63.5   70.8  665.3   0.8  22.6  38   3.6   0.0  2.511224\n",
       "110  4  4   mar  fri  85.9   19.5   57.3   2.8  13.7  43   5.8   0.0  0.000000\n",
       "..  .. ..   ...  ...   ...    ...    ...   ...   ...  ..   ...   ...       ...\n",
       "431  1  3   aug  sat  92.1  178.0  605.3   9.6  23.3  40   4.0   0.0  1.996060\n",
       "470  5  4   apr  sun  91.0   14.6   25.6  12.3  17.6  27   5.8   0.0  0.000000\n",
       "252  6  5   aug  wed  93.1  157.3  666.7  13.5  22.1  37   3.6   0.0  0.190620\n",
       "225  4  4   sep  sun  93.5  149.3  728.6   8.1  22.9  39   4.9   0.0  3.902982\n",
       "81   1  2   aug  sun  90.2   99.6  631.2   6.3  17.9  44   2.2   0.0  0.000000\n",
       "\n",
       "[413 rows x 13 columns]"
      ]
     },
     "metadata": {},
     "output_type": "display_data"
    }
   ],
   "source": [
    "display(forestfires)"
   ]
  },
  {
   "cell_type": "code",
   "execution_count": 29,
   "id": "4b46ffea",
   "metadata": {
    "execution": {
     "iopub.execute_input": "2023-03-23T03:07:09.295043Z",
     "iopub.status.busy": "2023-03-23T03:07:09.294290Z",
     "iopub.status.idle": "2023-03-23T03:07:09.313072Z",
     "shell.execute_reply": "2023-03-23T03:07:09.312039Z"
    },
    "papermill": {
     "duration": 0.039106,
     "end_time": "2023-03-23T03:07:09.315161",
     "exception": false,
     "start_time": "2023-03-23T03:07:09.276055",
     "status": "completed"
    },
    "tags": []
   },
   "outputs": [],
   "source": [
    "from sklearn.compose import ColumnTransformer\n",
    "from sklearn.preprocessing import OneHotEncoder, MinMaxScaler\n",
    "\n",
    "num_columns = ['X', 'Y', 'FFMC', 'DMC', 'DC', 'ISI', 'temp', 'RH', 'wind', 'rain']\n",
    "cat_columns = ['month', 'day']\n",
    "preprocessing = ColumnTransformer([\n",
    "    ('cat', OneHotEncoder(), cat_columns),\n",
    "    ('minmax', MinMaxScaler(), num_columns)\n",
    "])\n",
    "\n"
   ]
  },
  {
   "cell_type": "code",
   "execution_count": 30,
   "id": "d1882192",
   "metadata": {
    "execution": {
     "iopub.execute_input": "2023-03-23T03:07:09.391249Z",
     "iopub.status.busy": "2023-03-23T03:07:09.390290Z",
     "iopub.status.idle": "2023-03-23T03:07:09.407426Z",
     "shell.execute_reply": "2023-03-23T03:07:09.406803Z"
    },
    "papermill": {
     "duration": 0.039353,
     "end_time": "2023-03-23T03:07:09.409272",
     "exception": false,
     "start_time": "2023-03-23T03:07:09.369919",
     "status": "completed"
    },
    "tags": []
   },
   "outputs": [],
   "source": [
    "X_train = preprocessing.fit_transform(forestfires.drop(columns='area'))\n",
    "y_train = forestfires['area']\n",
    "\n",
    "X_test = preprocessing.fit_transform(strat_test_set.drop(columns='area'))\n",
    "y_test = strat_test_set['area']"
   ]
  },
  {
   "cell_type": "code",
   "execution_count": 31,
   "id": "a6ed4442",
   "metadata": {
    "execution": {
     "iopub.execute_input": "2023-03-23T03:07:09.446764Z",
     "iopub.status.busy": "2023-03-23T03:07:09.446253Z",
     "iopub.status.idle": "2023-03-23T03:07:09.535358Z",
     "shell.execute_reply": "2023-03-23T03:07:09.534570Z"
    },
    "papermill": {
     "duration": 0.110137,
     "end_time": "2023-03-23T03:07:09.537401",
     "exception": false,
     "start_time": "2023-03-23T03:07:09.427264",
     "status": "completed"
    },
    "tags": []
   },
   "outputs": [
    {
     "name": "stdout",
     "output_type": "stream",
     "text": [
      "1.89286109507383\n"
     ]
    }
   ],
   "source": [
    "from sklearn.linear_model import LinearRegression\n",
    "from sklearn.metrics import mean_squared_error\n",
    "\n",
    "lin_reg = LinearRegression()\n",
    "lin_reg.fit(X_train, y_train)\n",
    "\n",
    "predictions = lin_reg.predict(X_test)\n",
    "mse = mean_squared_error(y_test, predictions)\n",
    "print(mse)"
   ]
  },
  {
   "cell_type": "code",
   "execution_count": 32,
   "id": "5221051b",
   "metadata": {
    "execution": {
     "iopub.execute_input": "2023-03-23T03:07:09.597678Z",
     "iopub.status.busy": "2023-03-23T03:07:09.597326Z",
     "iopub.status.idle": "2023-03-23T03:07:09.601862Z",
     "shell.execute_reply": "2023-03-23T03:07:09.601132Z"
    },
    "papermill": {
     "duration": 0.035254,
     "end_time": "2023-03-23T03:07:09.606341",
     "exception": false,
     "start_time": "2023-03-23T03:07:09.571087",
     "status": "completed"
    },
    "tags": []
   },
   "outputs": [
    {
     "name": "stdout",
     "output_type": "stream",
     "text": [
      "5.638334442654238\n"
     ]
    }
   ],
   "source": [
    "orig_mse = np.exp(mse) - 1\n",
    "print(orig_mse)"
   ]
  },
  {
   "cell_type": "code",
   "execution_count": 33,
   "id": "77ceed02",
   "metadata": {
    "execution": {
     "iopub.execute_input": "2023-03-23T03:07:09.654267Z",
     "iopub.status.busy": "2023-03-23T03:07:09.654035Z",
     "iopub.status.idle": "2023-03-23T03:07:09.659328Z",
     "shell.execute_reply": "2023-03-23T03:07:09.658727Z"
    },
    "papermill": {
     "duration": 0.030072,
     "end_time": "2023-03-23T03:07:09.661055",
     "exception": false,
     "start_time": "2023-03-23T03:07:09.630983",
     "status": "completed"
    },
    "tags": []
   },
   "outputs": [
    {
     "data": {
      "text/plain": [
       "array([ 0.1015625,  0.734375 ,  1.1640625,  0.5234375,  0.6015625,\n",
       "        0.046875 ,  0.3515625,  1.28125  ,  0.953125 ,  1.2109375,\n",
       "        0.984375 ,  1.328125 ,  1.6875   ,  2.5078125,  1.2421875,\n",
       "        0.96875  ,  0.921875 ,  0.734375 ,  1.28125  ,  1.25     ,\n",
       "        0.328125 ,  0.8046875,  1.28125  ,  1.1484375,  1.0625   ,\n",
       "        0.578125 ,  1.4375   ,  2.3828125,  0.671875 ,  1.640625 ,\n",
       "        0.7734375,  1.53125  ,  1.1875   ,  0.5390625,  1.078125 ,\n",
       "        1.078125 ,  0.4921875,  2.359375 ,  1.171875 ,  0.84375  ,\n",
       "        1.3359375,  1.078125 ,  0.71875  ,  0.984375 ,  0.7109375,\n",
       "        0.78125  ,  1.328125 ,  0.796875 ,  1.609375 ,  1.       ,\n",
       "        2.328125 ,  1.2265625,  1.5      ,  1.3515625,  1.6328125,\n",
       "        0.515625 ,  0.8984375,  1.515625 ,  1.5546875,  1.1171875,\n",
       "        0.2421875,  3.40625  ,  1.8125   ,  1.2109375,  1.6796875,\n",
       "       -0.078125 ,  1.765625 ,  0.5078125,  1.6640625,  1.609375 ,\n",
       "        1.859375 ,  0.921875 ,  0.40625  ,  0.3359375,  1.375    ,\n",
       "        0.8671875,  0.265625 ,  0.8203125,  1.28125  ,  2.015625 ,\n",
       "        0.96875  ,  0.6875   ,  0.921875 ,  0.7890625,  0.25     ,\n",
       "        0.9296875,  1.359375 ,  1.53125  ,  1.1484375,  1.140625 ,\n",
       "        1.140625 ,  0.453125 ,  1.390625 ,  0.6640625,  0.3203125,\n",
       "        0.921875 ,  0.9453125,  0.8203125,  0.4296875,  1.09375  ,\n",
       "        0.875    ,  0.109375 ,  1.40625  ,  1.140625 ])"
      ]
     },
     "execution_count": 33,
     "metadata": {},
     "output_type": "execute_result"
    }
   ],
   "source": [
    "predictions"
   ]
  }
 ],
 "metadata": {
  "kernelspec": {
   "display_name": "Python 3",
   "language": "python",
   "name": "python3"
  },
  "language_info": {
   "codemirror_mode": {
    "name": "ipython",
    "version": 3
   },
   "file_extension": ".py",
   "mimetype": "text/x-python",
   "name": "python",
   "nbconvert_exporter": "python",
   "pygments_lexer": "ipython3",
   "version": "3.11.0"
  },
  "papermill": {
   "default_parameters": {},
   "duration": 16.840821,
   "end_time": "2023-03-23T03:07:10.399599",
   "environment_variables": {},
   "exception": null,
   "input_path": "__notebook__.ipynb",
   "output_path": "__notebook__.ipynb",
   "parameters": {},
   "start_time": "2023-03-23T03:06:53.558778",
   "version": "2.4.0"
  }
 },
 "nbformat": 4,
 "nbformat_minor": 5
}
