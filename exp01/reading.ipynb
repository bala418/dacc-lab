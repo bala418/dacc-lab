{
 "cells": [
  {
   "cell_type": "code",
   "execution_count": 1,
   "metadata": {},
   "outputs": [
    {
     "name": "stdout",
     "output_type": "stream",
     "text": [
      "df.head() - returns the first n rows (default 5) of a DataFrame\n",
      "\n",
      "df.tail() - returns the last n rows (default 5) of a DataFrame\n",
      "\n",
      "df.shape - returns the shape of the DataFrame (rows, columns)\n",
      "\n",
      "df.columns - returns the column names of the DataFrame\n",
      "\n",
      "df.info() - returns a summary of the DataFrame, including the number of non-null values, data type, and memory usage\n",
      "\n",
      "df.describe() - returns summary statistics of the numerical columns in the DataFrame\n",
      "\n",
      "df.dtypes - returns the data types of the columns in the DataFrame\n",
      "\n",
      "df.sort_values(by) - sorts the DataFrame by one or multiple columns\n",
      "\n",
      "df.drop(columns) - drops one or multiple columns from the DataFrame\n",
      "\n",
      "df.dropna() - drops the rows with missing values from the DataFrame\n",
      "\n",
      "df.fillna() - fills the missing values in the DataFrame with a specified value or method\n",
      "\n",
      "df.astype() - changes the data type of one or multiple columns\n",
      "\n",
      "df.rename(columns) - renames one or multiple columns in the DataFrame\n",
      "\n",
      "df.set_index() - sets a column as the index of the DataFrame\n",
      "\n",
      "df.loc[] - accesses the rows of the DataFrame by index label\n",
      "\n",
      "df.iloc[] - accesses the rows of the DataFrame by index position\n",
      "\n",
      "df.groupby() - groups the DataFrame by one or multiple columns and aggregates the values\n",
      "\n",
      "df.pivot_table() - creates a pivot table from the DataFrame\n",
      "\n",
      "df.apply() - applies a function to each element or row/column of the DataFrame\n",
      "\n",
      "df.to_csv() - saves the DataFrame to a CSV file\n",
      "Total lines:  20\n"
     ]
    }
   ],
   "source": [
    "# reading from text file\n",
    "\n",
    "lines = []\n",
    "with open('input.txt', 'r') as f:\n",
    "    lines = f.readlines()\n",
    "count = 0\n",
    "for line in lines:\n",
    "    print(line)\n",
    "    count += 1\n",
    "print('Total lines: ', count)"
   ]
  },
  {
   "cell_type": "code",
   "execution_count": 3,
   "metadata": {},
   "outputs": [
    {
     "name": "stdout",
     "output_type": "stream",
     "text": [
      "['Id', 'SepalLengthCm', 'SepalWidthCm', 'PetalLengthCm', 'PetalWidthCm', 'Species']\n",
      "['1', '5.1', '3.5', '1.4', '0.2', 'Iris-setosa']\n",
      "['2', '4.9', '3.0', '1.4', '0.2', 'Iris-setosa']\n",
      "['3', '4.7', '3.2', '1.3', '0.2', 'Iris-setosa']\n",
      "['4', '4.6', '3.1', '1.5', '0.2', 'Iris-setosa']\n"
     ]
    }
   ],
   "source": [
    "import csv\n",
    "count = 0\n",
    "with open('../datasets/iris.csv', 'r') as f:\n",
    "    reader = csv.reader(f)\n",
    "    for row in reader:\n",
    "        count += 1\n",
    "        print(row)\n",
    "        if(count == 5):\n",
    "            break\n",
    "        \n",
    "        \n"
   ]
  },
  {
   "cell_type": "code",
   "execution_count": 10,
   "metadata": {},
   "outputs": [
    {
     "name": "stdout",
     "output_type": "stream",
     "text": [
      "[<h1 class=\"site-headline\">\n",
      "<a href=\"/\"><img alt=\"python™\" class=\"python-logo\" src=\"/static/img/python-logo.png\"/></a>\n",
      "</h1>, <h1>Functions Defined</h1>, <h1>Compound Data Types</h1>, <h1>Intuitive Interpretation</h1>, <h1>All the Flow You’d Expect</h1>, <h1>Quick &amp; Easy to Learn</h1>]\n"
     ]
    }
   ],
   "source": [
    "import requests\n",
    "from bs4 import BeautifulSoup\n",
    "r = requests.get('https://www.python.org/')\n",
    "soup = BeautifulSoup(r.text, 'html.parser')\n",
    "print(soup.find_all('h1'))\n"
   ]
  }
 ],
 "metadata": {
  "kernelspec": {
   "display_name": "Python 3",
   "language": "python",
   "name": "python3"
  },
  "language_info": {
   "codemirror_mode": {
    "name": "ipython",
    "version": 3
   },
   "file_extension": ".py",
   "mimetype": "text/x-python",
   "name": "python",
   "nbconvert_exporter": "python",
   "pygments_lexer": "ipython3",
   "version": "3.11.0"
  },
  "orig_nbformat": 4,
  "vscode": {
   "interpreter": {
    "hash": "9e962ddba64242eb12947a85c17467758c56bfffc3a13f45fc936d12fa812fc4"
   }
  }
 },
 "nbformat": 4,
 "nbformat_minor": 2
}
